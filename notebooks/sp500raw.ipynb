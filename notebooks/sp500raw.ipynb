{
 "cells": [
  {
   "cell_type": "code",
   "execution_count": null,
   "id": "9c4b0c27",
   "metadata": {},
   "outputs": [],
   "source": [
    "import os, glob\n",
    "import numpy as np\n",
    "import pandas as pd\n",
    "from datetime import time\n",
    "from pytz import timezone\n",
    "from sklearn.ensemble import RandomForestClassifier\n",
    "from sklearn.model_selection import RepeatedStratifiedKFold, cross_val_score\n",
    "from sklearn.preprocessing import StandardScaler\n",
    "from sklearn.metrics import confusion_matrix, accuracy_score, precision_score, recall_score, f1_score\n",
    "from imblearn.under_sampling import RandomUnderSampler\n",
    "from imblearn.over_sampling import RandomOverSampler, SMOTE"
   ]
  },
  {
   "cell_type": "code",
   "execution_count": null,
   "id": "1ee7edb5",
   "metadata": {},
   "outputs": [],
   "source": [
    "# 1) —— Data Import & Preprocessing —— #\n",
    "\n",
    "DATA_DIR = \"../SPX\"\n",
    "OUTPUT_FEATURE_CSV = \"../csvfiles_python/features_360_raw.csv\"\n",
    "OUTPUT_ALLSET_CSV  = \"../csvfiles_python/allSet_360_raw.csv\"\n",
    "\n",
    "def load_data(path):\n",
    "    files = glob.glob(os.path.join(path, \"*.txt\"))\n",
    "    dfs = []\n",
    "    for f in sorted(files):\n",
    "        df = pd.read_csv(f, names=[\"DateTime\",\"Open\",\"High\",\"Low\",\"Close\"],\n",
    "                         sep=\",\", parse_dates=[\"DateTime\"])\n",
    "        dfs.append(df)\n",
    "    spx = pd.concat(dfs, ignore_index=True)\n",
    "    # localize to EST\n",
    "    spx[\"DateTime\"] = spx[\"DateTime\"].dt.tz_localize(timezone(\"US/Eastern\"))\n",
    "    spx.set_index(\"DateTime\", inplace=True)\n",
    "    # filter trading hours 9:30–16:00\n",
    "    return spx.between_time(\"09:30\",\"16:00\")\n",
    "\n",
    "spx = load_data(DATA_DIR)\n",
    "\n",
    "# Drop duplicates\n",
    "spx = spx[~spx.index.duplicated(keep='first')]"
   ]
  },
  {
   "cell_type": "code",
   "execution_count": null,
   "id": "1bedfa24",
   "metadata": {},
   "outputs": [],
   "source": [
    "# 2) —— Create daily labels —— #\n",
    "\n",
    "# group by calendar date\n",
    "spx[\"Date\"] = spx.index.date\n",
    "groups = spx.groupby(\"Date\")\n",
    "\n",
    "# last-minute close price per day\n",
    "lmP = groups[\"Close\"].last()\n",
    "\n",
    "# average price from start to (end − 30 mins)\n",
    "avgP = groups.apply(lambda df: df[\"Close\"].iloc[:-30].mean())\n",
    "\n",
    "# binary label: 1 if avgP < lmP else 0\n",
    "y = (avgP < lmP).astype(int)\n",
    "y.name = \"Y\""
   ]
  }
 ],
 "metadata": {
  "kernelspec": {
   "display_name": "base",
   "language": "python",
   "name": "python3"
  },
  "language_info": {
   "name": "python",
   "version": "3.12.7"
  }
 },
 "nbformat": 4,
 "nbformat_minor": 5
}
