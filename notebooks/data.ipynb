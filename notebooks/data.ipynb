{
 "cells": [
  {
   "cell_type": "code",
   "execution_count": 6,
   "id": "1d5bc6b8",
   "metadata": {},
   "outputs": [],
   "source": [
    "import pandas as pd"
   ]
  },
  {
   "cell_type": "code",
   "execution_count": 7,
   "id": "2a5562e6",
   "metadata": {},
   "outputs": [],
   "source": [
    "dates = ['2021', '2022', '2023', '2024', '202501', '202502', '202503', '202504', '202505']\n",
    "df_full = pd.DataFrame()\n",
    "\n",
    "for date in dates:\n",
    "        df  = (pd.read_csv(f'../SPX_new/DAT_ASCII_SPXUSD_M1_{date}.csv', sep=';', header=None, names=['ts', 'open', 'high', 'low', 'close', 'volume'])\n",
    "            .assign(ts = lambda d: pd.to_datetime(\n",
    "                        d['ts'].str.replace(' ',''), format='%Y%m%d%H%M%S', utc=False))\n",
    "            .set_index('ts')\n",
    "            .tz_localize('Etc/GMT+5'))        # fixed EST = UTC-05:00\n",
    "    \n",
    "        # Convert to actual New-York time (will carry DST correctly)\n",
    "        df.index = df.index.tz_convert('America/New_York')\n",
    "        df.index = df.index.tz_localize(None)  \n",
    "\n",
    "        # Keep only regular-session minutes\n",
    "        regular = df.between_time(\"09:30\", \"16:06\", inclusive=\"left\").copy()\n",
    "        regular.drop(columns='volume', inplace=True)\n",
    "        df_full = pd.concat([df_full, regular], ignore_index=False)"
   ]
  },
  {
   "cell_type": "code",
   "execution_count": 8,
   "id": "b24c164f",
   "metadata": {},
   "outputs": [
    {
     "data": {
      "text/html": [
       "<div>\n",
       "<style scoped>\n",
       "    .dataframe tbody tr th:only-of-type {\n",
       "        vertical-align: middle;\n",
       "    }\n",
       "\n",
       "    .dataframe tbody tr th {\n",
       "        vertical-align: top;\n",
       "    }\n",
       "\n",
       "    .dataframe thead th {\n",
       "        text-align: right;\n",
       "    }\n",
       "</style>\n",
       "<table border=\"1\" class=\"dataframe\">\n",
       "  <thead>\n",
       "    <tr style=\"text-align: right;\">\n",
       "      <th></th>\n",
       "      <th>open</th>\n",
       "      <th>high</th>\n",
       "      <th>low</th>\n",
       "      <th>close</th>\n",
       "    </tr>\n",
       "    <tr>\n",
       "      <th>ts</th>\n",
       "      <th></th>\n",
       "      <th></th>\n",
       "      <th></th>\n",
       "      <th></th>\n",
       "    </tr>\n",
       "  </thead>\n",
       "  <tbody>\n",
       "    <tr>\n",
       "      <th>2021-01-04 09:30:00</th>\n",
       "      <td>3765.797</td>\n",
       "      <td>3767.397</td>\n",
       "      <td>3764.048</td>\n",
       "      <td>3764.542</td>\n",
       "    </tr>\n",
       "    <tr>\n",
       "      <th>2021-01-04 09:31:00</th>\n",
       "      <td>3764.597</td>\n",
       "      <td>3765.052</td>\n",
       "      <td>3763.348</td>\n",
       "      <td>3763.348</td>\n",
       "    </tr>\n",
       "    <tr>\n",
       "      <th>2021-01-04 09:32:00</th>\n",
       "      <td>3763.331</td>\n",
       "      <td>3763.554</td>\n",
       "      <td>3761.033</td>\n",
       "      <td>3761.033</td>\n",
       "    </tr>\n",
       "    <tr>\n",
       "      <th>2021-01-04 09:33:00</th>\n",
       "      <td>3761.340</td>\n",
       "      <td>3761.340</td>\n",
       "      <td>3758.236</td>\n",
       "      <td>3759.399</td>\n",
       "    </tr>\n",
       "    <tr>\n",
       "      <th>2021-01-04 09:34:00</th>\n",
       "      <td>3759.536</td>\n",
       "      <td>3759.952</td>\n",
       "      <td>3758.034</td>\n",
       "      <td>3758.348</td>\n",
       "    </tr>\n",
       "    <tr>\n",
       "      <th>...</th>\n",
       "      <td>...</td>\n",
       "      <td>...</td>\n",
       "      <td>...</td>\n",
       "      <td>...</td>\n",
       "    </tr>\n",
       "    <tr>\n",
       "      <th>2025-05-16 16:01:00</th>\n",
       "      <td>5950.464</td>\n",
       "      <td>5952.139</td>\n",
       "      <td>5950.464</td>\n",
       "      <td>5952.009</td>\n",
       "    </tr>\n",
       "    <tr>\n",
       "      <th>2025-05-16 16:02:00</th>\n",
       "      <td>5951.841</td>\n",
       "      <td>5953.129</td>\n",
       "      <td>5951.573</td>\n",
       "      <td>5952.089</td>\n",
       "    </tr>\n",
       "    <tr>\n",
       "      <th>2025-05-16 16:03:00</th>\n",
       "      <td>5951.848</td>\n",
       "      <td>5952.475</td>\n",
       "      <td>5951.593</td>\n",
       "      <td>5952.409</td>\n",
       "    </tr>\n",
       "    <tr>\n",
       "      <th>2025-05-16 16:04:00</th>\n",
       "      <td>5952.593</td>\n",
       "      <td>5952.624</td>\n",
       "      <td>5952.106</td>\n",
       "      <td>5952.366</td>\n",
       "    </tr>\n",
       "    <tr>\n",
       "      <th>2025-05-16 16:05:00</th>\n",
       "      <td>5952.625</td>\n",
       "      <td>5954.868</td>\n",
       "      <td>5952.625</td>\n",
       "      <td>5954.612</td>\n",
       "    </tr>\n",
       "  </tbody>\n",
       "</table>\n",
       "<p>417490 rows × 4 columns</p>\n",
       "</div>"
      ],
      "text/plain": [
       "                         open      high       low     close\n",
       "ts                                                         \n",
       "2021-01-04 09:30:00  3765.797  3767.397  3764.048  3764.542\n",
       "2021-01-04 09:31:00  3764.597  3765.052  3763.348  3763.348\n",
       "2021-01-04 09:32:00  3763.331  3763.554  3761.033  3761.033\n",
       "2021-01-04 09:33:00  3761.340  3761.340  3758.236  3759.399\n",
       "2021-01-04 09:34:00  3759.536  3759.952  3758.034  3758.348\n",
       "...                       ...       ...       ...       ...\n",
       "2025-05-16 16:01:00  5950.464  5952.139  5950.464  5952.009\n",
       "2025-05-16 16:02:00  5951.841  5953.129  5951.573  5952.089\n",
       "2025-05-16 16:03:00  5951.848  5952.475  5951.593  5952.409\n",
       "2025-05-16 16:04:00  5952.593  5952.624  5952.106  5952.366\n",
       "2025-05-16 16:05:00  5952.625  5954.868  5952.625  5954.612\n",
       "\n",
       "[417490 rows x 4 columns]"
      ]
     },
     "execution_count": 8,
     "metadata": {},
     "output_type": "execute_result"
    }
   ],
   "source": [
    "df_full"
   ]
  },
  {
   "cell_type": "code",
   "execution_count": 9,
   "id": "bb4b2860",
   "metadata": {},
   "outputs": [
    {
     "name": "stdout",
     "output_type": "stream",
     "text": [
      "Index([0, 1, 2, 3, 4], dtype='int32', name='ts')\n",
      "open     0\n",
      "high     0\n",
      "low      0\n",
      "close    0\n",
      "dtype: int64\n"
     ]
    }
   ],
   "source": [
    "print(df_full.index.dayofweek.unique())  # Check that we have no weekends\n",
    "print(df_full.isna().sum())  # Check that we have no NaNs"
   ]
  },
  {
   "cell_type": "code",
   "execution_count": 10,
   "id": "5fbed5e3",
   "metadata": {},
   "outputs": [],
   "source": [
    "df_full.to_csv('../SPX_new/SPX_2021_2025.csv', index=True)"
   ]
  }
 ],
 "metadata": {
  "kernelspec": {
   "display_name": ".venv",
   "language": "python",
   "name": "python3"
  },
  "language_info": {
   "codemirror_mode": {
    "name": "ipython",
    "version": 3
   },
   "file_extension": ".py",
   "mimetype": "text/x-python",
   "name": "python",
   "nbconvert_exporter": "python",
   "pygments_lexer": "ipython3",
   "version": "3.12.9"
  }
 },
 "nbformat": 4,
 "nbformat_minor": 5
}
